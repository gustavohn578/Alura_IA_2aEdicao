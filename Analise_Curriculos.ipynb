{
  "nbformat": 4,
  "nbformat_minor": 0,
  "metadata": {
    "colab": {
      "provenance": [],
      "authorship_tag": "ABX9TyMul/BBOdZOHJ4Nc1RYy0rw",
      "include_colab_link": true
    },
    "kernelspec": {
      "name": "python3",
      "display_name": "Python 3"
    },
    "language_info": {
      "name": "python"
    }
  },
  "cells": [
    {
      "cell_type": "markdown",
      "metadata": {
        "id": "view-in-github",
        "colab_type": "text"
      },
      "source": [
        "<a href=\"https://colab.research.google.com/github/gustavohn578/Alura_IA_2aEdicao/blob/main/Analise_Curriculos.ipynb\" target=\"_parent\"><img src=\"https://colab.research.google.com/assets/colab-badge.svg\" alt=\"Open In Colab\"/></a>"
      ]
    },
    {
      "cell_type": "markdown",
      "source": [
        "<h1>Análise de currículos</h1>\n",
        "É usual que as ferramentas de pesquisa de currículos usem uma série de filtros e palavras chaves para buscar resultados.</br>\n",
        "São ferramentas úteis, mas ainda assim exigem muito tempo na seleção e análise de candidatos.</br>\n",
        "O objetivo deste projeto é executar de forma automática a avaliação de uma base de currículos para definir qual deles melhor atende uma lista de requisitos.<br>\n",
        "\n"
      ],
      "metadata": {
        "id": "ouuftGu20AT4"
      }
    },
    {
      "cell_type": "markdown",
      "source": [
        "<h2>Instalar o SDK</h2>"
      ],
      "metadata": {
        "id": "LyyKAo0CYgaJ"
      }
    },
    {
      "cell_type": "code",
      "execution_count": 1,
      "metadata": {
        "id": "HNrMMJpaxp6r"
      },
      "outputs": [],
      "source": [
        "!pip install -U -q google-generativeai"
      ]
    },
    {
      "cell_type": "markdown",
      "source": [
        "<h2>Importar bibliotecas e configurar a API Key</h2>"
      ],
      "metadata": {
        "id": "OUXik4VN1tOl"
      }
    },
    {
      "cell_type": "code",
      "source": [
        "import numpy as np\n",
        "import pandas as pd\n",
        "import google.generativeai as genai\n",
        "from google.colab import userdata\n",
        "\n",
        "my_api_key = userdata.get('MY_KEY')\n",
        "\n",
        "genai.configure(api_key=my_api_key)"
      ],
      "metadata": {
        "id": "DI_vnG3wy4dL"
      },
      "execution_count": 2,
      "outputs": []
    },
    {
      "cell_type": "markdown",
      "source": [
        "<h2>Listar modelos</h2>"
      ],
      "metadata": {
        "id": "GMpsL7c410dE"
      }
    },
    {
      "cell_type": "code",
      "source": [
        "for m in genai.list_models():\n",
        "  if 'embedContent' in m.supported_generation_methods:\n",
        "    print(m.name)"
      ],
      "metadata": {
        "colab": {
          "base_uri": "https://localhost:8080/",
          "height": 52
        },
        "id": "kVwkJaovzuvw",
        "outputId": "cf76df44-0b71-48e4-b22c-545834e6a5b6"
      },
      "execution_count": 3,
      "outputs": [
        {
          "output_type": "stream",
          "name": "stdout",
          "text": [
            "models/embedding-001\n",
            "models/text-embedding-004\n"
          ]
        }
      ]
    },
    {
      "cell_type": "markdown",
      "source": [
        "<h2>Gerar base de currículos para simulação</h2>\n",
        "Em uma aplicação real existirá uma base de currículos previamente selecionados ou coletados.<br>\n",
        "Para demonstração usaremos aqui uma pequena base de currículos simulados .<br>\n",
        "O Google Ai Studio foi usado para criar o prompt e gerar os currículos que depois foram copiados.</br><br>\n",
        "<h3>Comentário</h3>\n",
        "A abordagem para gerar os currículos simulados via código pela própria API apresentou dificuldades inesperadas com timeout de excecução.</br> Após aumentar   o timeout no parâmetro <i>request_options</i> do método <i>model.generate_content</i> algumas vezes sem sucesso, decidiu-se por copiar o resultado do prompt."
      ],
      "metadata": {
        "id": "c5BkhhUYt0cf"
      }
    },
    {
      "cell_type": "code",
      "source": [
        "CURRICULO1 = {\n",
        "    \"Candidato\": \"Candidato 1\",\n",
        "    \"Curriculo\": {\n",
        "        \"cargo\": \"Desenvolvedor Full Stack\",\n",
        "        \"resumo\": \"Desenvolvedor Full Stack com +5 anos de experiência na construção e manutenção de aplicações web complexas, com foco em performance, escalabilidade e usabilidade. Habilidade comprovada em trabalhar com times ágeis, liderando projetos e entregando soluções inovadoras.\",\n",
        "        \"habilidades\": \"JavaScript, Python, Java, C#, React, Node.js, Angular, Django, Spring Boot, SQL Server, PostgreSQL, MongoDB, AWS, Azure, GCP, Git, Github, Scrum, Kanban\",\n",
        "        \"experiencia profissional\": \"Desenvolvedor Full Stack | Empresa X | [Cidade, Estado] | [Data Inicial] - [Data Final]\\nDesenvolvedor Front-End | Empresa Y | [Cidade, Estado] | [Data Inicial] - [Data Final]\",\n",
        "        \"formacao\": \"Bacharelado em Ciência da Computação | Universidade Z | [Ano de Conclusão]\",\n",
        "        \"certificações\": \"\",\n",
        "        \"projetos\": \"Desenvolvimento de um aplicativo mobile para [descrição do projeto], disponível na App Store e Google Play.\\nCriação de um blog pessoal sobre desenvolvimento web, compartilhando conhecimento e experiências com a comunidade.\",\n",
        "        \"idiomas\": \"Português (Nativo)\\nInglês (Fluente)\"\n",
        "    }\n",
        "}\n",
        "\n",
        "CURRICULO2 = {\n",
        "    \"Candidato\": \"Candidato 2\",\n",
        "    \"Curriculo\": {\n",
        "        \"cargo\": \"Cientista de Dados\",\n",
        "        \"resumo\": \"Cientista de Dados com +3 anos de experiência em análise e modelagem de dados, com foco em Machine Learning e Inteligência Artificial. Habilidade comprovada em transformar dados em insights estratégicos para otimizar processos e auxiliar na tomada de decisões.\",\n",
        "        \"habilidades\": \"Python, R, Pandas, NumPy, Scikit-learn, TensorFlow, Keras, Machine Learning, Regressão, Classificação, Clusterização, Deep Learning, Tableau, Power BI, SQL Server, MySQL, Hadoop, Spark\",\n",
        "        \"experiencia profissional\": \"Cientista de Dados | Empresa A | [Cidade, Estado] | [Data Inicial] - [Data Final]\\nAnalista de Dados | Empresa B | [Cidade, Estado] | [Data Inicial] - [Data Final]\",\n",
        "        \"formacao\": \"Mestrado em Estatística | Universidade W | [Ano de Conclusão]\\nBacharelado em Matemática | Universidade X | [Ano de Conclusão]\",\n",
        "        \"certificações\": \"AWS Certified Machine Learning - Specialty\",\n",
        "        \"projetos\": \"Desenvolvimento de um projeto de machine learning para [descrição do projeto], disponível no Github.\",\n",
        "        \"idiomas\": \"Português (Nativo)\\nInglês (Avançado)\"\n",
        "    }\n",
        "}\n",
        "\n",
        "CURRICULO3 = {\n",
        "    \"Candidato\": \"Candidato 3\",\n",
        "    \"Curriculo\": {\n",
        "        \"cargo\": \"Engenheiro de DevOps\",\n",
        "        \"resumo\": \"Engenheiro de DevOps com +4 anos de experiência em automatização de infraestrutura, integração contínua e entrega contínua (CI/CD). Habilidade comprovada em otimizar o processo de desenvolvimento de software, aumentar a eficiência da equipe e garantir a qualidade do produto final.\",\n",
        "        \"habilidades\": \"AWS, Azure, GCP, Docker, Kubernetes, Ansible, Puppet, Chef, CI/CD, Jenkins, GitLab CI, CircleCI, Linux, Windows Server, Bash, Python, Prometheus, Grafana\",\n",
        "        \"experiencia profissional\": \"Engenheiro de DevOps | Empresa C | [Cidade, Estado] | [Data Inicial] - [Data Final]\\nAdministrador de Sistemas | Empresa D | [Cidade, Estado] | [Data Inicial] - [Data Final]\",\n",
        "        \"formacao\": \"Bacharelado em Engenharia da Computação | Universidade Y | [Ano de Conclusão]\",\n",
        "        \"certificações\": \"AWS Certified Solutions Architect - Associate\\nCertified Kubernetes Administrator (CKA)\",\n",
        "        \"projetos\": \"Criação de um ambiente de desenvolvimento automatizado utilizando Docker e Ansible.\",\n",
        "        \"idiomas\": \"Português (Nativo)\\nInglês (Intermediário)\"\n",
        "    }\n",
        "}\n",
        "\n",
        "CURRICULO4 = {\n",
        "    \"Candidato\": \"Candidato 4\",\n",
        "    \"Curriculo\": {\n",
        "        \"cargo\": \"Analista de Segurança da Informação\",\n",
        "        \"resumo\": \"Analista de Segurança da Informação com +2 anos de experiência em proteção de dados, prevenção de ameaças e resposta a incidentes. Habilidade comprovada em identificar vulnerabilidades, implementar medidas de segurança e garantir a conformidade com as melhores práticas.\",\n",
        "        \"habilidades\": \"Firewall, VPN, Intrusion Detection System (IDS), Intrusion Prevention System (IPS), OWASP Top 10, testes de penetração, análise de código estático, Criptografia, controle de acesso, backup e recuperação de dados, Investigação de incidentes, análise forense, plano de recuperação de desastres, ISO 27001, GDPR, LGPD\",\n",
        "        \"experiencia profissional\": \"Analista de Segurança da Informação | Empresa E | [Cidade, Estado] | [Data Inicial] - [Data Final]\\nEstagiário de Segurança da Informação | Empresa F | [Cidade, Estado] | [Data Inicial] - [Data Final]\",\n",
        "        \"formacao\": \"Bacharelado em Segurança da Informação | Universidade Z | [Ano de Conclusão]\",\n",
        "        \"certificações\": \"Certified Information Systems Security Professional (CISSP)\\nCompTIA Security+\",\n",
        "        \"projetos\": \"Configuração de um laboratório de segurança da informação para realizar testes de penetração.\",\n",
        "        \"idiomas\": \"Português (Nativo)\\nInglês (Técnico)\"\n",
        "    }\n",
        "}\n",
        "\n",
        "CURRICULO5 = {\n",
        "    \"Candidato\": \"Candidato 5\",\n",
        "    \"Curriculo\": {\n",
        "        \"cargo\": \"Gerente de Projetos de TI\",\n",
        "        \"resumo\": \"Gerente de Projetos de TI com +7 anos de experiência em planejamento, execução e entrega de projetos de tecnologia. Habilidade comprovada em liderar equipes, gerenciar orçamentos, mitigar riscos e garantir a satisfação do cliente.\",\n",
        "        \"habilidades\": \"Waterfall, Agile (Scrum, Kanban), Jira, Microsoft Project, Asana, Gerenciamento de Riscos e Problemas, Comunicação Eficaz, Liderança e Motivação de Equipes, Negociação e Gestão de Conflitos\",\n",
        "        \"experiencia profissional\": \"Gerente de Projetos de TI | Empresa G | [Cidade, Estado] | [Data Inicial] - [Data Final]\\nCoordenador de Projetos de TI | Empresa H | [Cidade, Estado] | [Data Inicial] - [Data Final]\",\n",
        "        \"formacao\": \"MBA em Gerenciamento de Projetos | Universidade W | [Ano de Conclusão]\\nBacharelado em Ciência da Computação | Universidade X | [Ano de Conclusão]\",\n",
        "        \"certificações\": \"Project Management Professional (PMP)\\nCertified Scrum Master (CSM)\",\n",
        "        \"projetos\": \"Voluntariado em projetos de tecnologia para organizações sem fins lucrativos.\",\n",
        "        \"idiomas\": \"Português (Nativo)\\nInglês (Fluente)\\nEspanhol (Básico)\"\n",
        "    }\n",
        "}\n",
        "\n",
        "curriculos = [CURRICULO1, CURRICULO2, CURRICULO3, CURRICULO4, CURRICULO5]\n",
        "\n"
      ],
      "metadata": {
        "id": "G3jAuxjm5mkt"
      },
      "execution_count": 4,
      "outputs": []
    },
    {
      "cell_type": "code",
      "source": [
        "for m in curriculos:\n",
        "  print(m[\"Candidato\"])"
      ],
      "metadata": {
        "colab": {
          "base_uri": "https://localhost:8080/"
        },
        "id": "jrHGTV6uUkAb",
        "outputId": "eefee3ff-29d5-4ff7-c4da-92f37808e9b7"
      },
      "execution_count": 5,
      "outputs": [
        {
          "output_type": "stream",
          "name": "stdout",
          "text": [
            "Candidato 1\n",
            "Candidato 2\n",
            "Candidato 3\n",
            "Candidato 4\n",
            "Candidato 5\n"
          ]
        }
      ]
    },
    {
      "cell_type": "markdown",
      "source": [
        "<h2>Definir a função currículo para texto</h2>\n",
        "Definir uma função para **converter** a estrutura do currículo para uma única sttring que possa ser usada para gerar embeddings."
      ],
      "metadata": {
        "id": "GEAvcoN1dSd4"
      }
    },
    {
      "cell_type": "code",
      "source": [
        "def curriculo_para_texto(curriculo):\n",
        "  \"\"\"Converte um currículo em um único texto.\"\"\"\n",
        "  texto = f\"Cargo: {curriculo['Curriculo']['cargo']}\\n\"\n",
        "  texto += f\"Resumo: {curriculo['Curriculo']['resumo']}\\n\"\n",
        "  texto += f\"Habilidades: {curriculo['Curriculo']['habilidades']}\\n\"\n",
        "  texto += f\"Experiência Profissional: {curriculo['Curriculo']['experiencia profissional']}\\n\"\n",
        "  texto += f\"Formação: {curriculo['Curriculo']['formacao']}\\n\"\n",
        "  texto += f\"Certificações: {curriculo['Curriculo']['certificações']}\\n\"\n",
        "  texto += f\"Projetos: {curriculo['Curriculo']['projetos']}\\n\"\n",
        "  texto += f\"Idiomas: {curriculo['Curriculo']['idiomas']}\"\n",
        "  return texto\n",
        "\n",
        "#textos_curriculos = [curriculo_para_texto(c) for c in curriculos]\n",
        "\n",
        "for m in curriculos:\n",
        "  m[\"Curriculo\"] = curriculo_para_texto(m)\n",
        "\n",
        "curriculos"
      ],
      "metadata": {
        "colab": {
          "base_uri": "https://localhost:8080/"
        },
        "id": "cBQRryw7SAL3",
        "outputId": "94b15433-0da6-4a08-c4f2-82e2f746fa1a"
      },
      "execution_count": 6,
      "outputs": [
        {
          "output_type": "execute_result",
          "data": {
            "text/plain": [
              "[{'Candidato': 'Candidato 1',\n",
              "  'Curriculo': 'Cargo: Desenvolvedor Full Stack\\nResumo: Desenvolvedor Full Stack com +5 anos de experiência na construção e manutenção de aplicações web complexas, com foco em performance, escalabilidade e usabilidade. Habilidade comprovada em trabalhar com times ágeis, liderando projetos e entregando soluções inovadoras.\\nHabilidades: JavaScript, Python, Java, C#, React, Node.js, Angular, Django, Spring Boot, SQL Server, PostgreSQL, MongoDB, AWS, Azure, GCP, Git, Github, Scrum, Kanban\\nExperiência Profissional: Desenvolvedor Full Stack | Empresa X | [Cidade, Estado] | [Data Inicial] - [Data Final]\\nDesenvolvedor Front-End | Empresa Y | [Cidade, Estado] | [Data Inicial] - [Data Final]\\nFormação: Bacharelado em Ciência da Computação | Universidade Z | [Ano de Conclusão]\\nCertificações: \\nProjetos: Desenvolvimento de um aplicativo mobile para [descrição do projeto], disponível na App Store e Google Play.\\nCriação de um blog pessoal sobre desenvolvimento web, compartilhando conhecimento e experiências com a comunidade.\\nIdiomas: Português (Nativo)\\nInglês (Fluente)'},\n",
              " {'Candidato': 'Candidato 2',\n",
              "  'Curriculo': 'Cargo: Cientista de Dados\\nResumo: Cientista de Dados com +3 anos de experiência em análise e modelagem de dados, com foco em Machine Learning e Inteligência Artificial. Habilidade comprovada em transformar dados em insights estratégicos para otimizar processos e auxiliar na tomada de decisões.\\nHabilidades: Python, R, Pandas, NumPy, Scikit-learn, TensorFlow, Keras, Machine Learning, Regressão, Classificação, Clusterização, Deep Learning, Tableau, Power BI, SQL Server, MySQL, Hadoop, Spark\\nExperiência Profissional: Cientista de Dados | Empresa A | [Cidade, Estado] | [Data Inicial] - [Data Final]\\nAnalista de Dados | Empresa B | [Cidade, Estado] | [Data Inicial] - [Data Final]\\nFormação: Mestrado em Estatística | Universidade W | [Ano de Conclusão]\\nBacharelado em Matemática | Universidade X | [Ano de Conclusão]\\nCertificações: AWS Certified Machine Learning - Specialty\\nProjetos: Desenvolvimento de um projeto de machine learning para [descrição do projeto], disponível no Github.\\nIdiomas: Português (Nativo)\\nInglês (Avançado)'},\n",
              " {'Candidato': 'Candidato 3',\n",
              "  'Curriculo': 'Cargo: Engenheiro de DevOps\\nResumo: Engenheiro de DevOps com +4 anos de experiência em automatização de infraestrutura, integração contínua e entrega contínua (CI/CD). Habilidade comprovada em otimizar o processo de desenvolvimento de software, aumentar a eficiência da equipe e garantir a qualidade do produto final.\\nHabilidades: AWS, Azure, GCP, Docker, Kubernetes, Ansible, Puppet, Chef, CI/CD, Jenkins, GitLab CI, CircleCI, Linux, Windows Server, Bash, Python, Prometheus, Grafana\\nExperiência Profissional: Engenheiro de DevOps | Empresa C | [Cidade, Estado] | [Data Inicial] - [Data Final]\\nAdministrador de Sistemas | Empresa D | [Cidade, Estado] | [Data Inicial] - [Data Final]\\nFormação: Bacharelado em Engenharia da Computação | Universidade Y | [Ano de Conclusão]\\nCertificações: AWS Certified Solutions Architect - Associate\\nCertified Kubernetes Administrator (CKA)\\nProjetos: Criação de um ambiente de desenvolvimento automatizado utilizando Docker e Ansible.\\nIdiomas: Português (Nativo)\\nInglês (Intermediário)'},\n",
              " {'Candidato': 'Candidato 4',\n",
              "  'Curriculo': 'Cargo: Analista de Segurança da Informação\\nResumo: Analista de Segurança da Informação com +2 anos de experiência em proteção de dados, prevenção de ameaças e resposta a incidentes. Habilidade comprovada em identificar vulnerabilidades, implementar medidas de segurança e garantir a conformidade com as melhores práticas.\\nHabilidades: Firewall, VPN, Intrusion Detection System (IDS), Intrusion Prevention System (IPS), OWASP Top 10, testes de penetração, análise de código estático, Criptografia, controle de acesso, backup e recuperação de dados, Investigação de incidentes, análise forense, plano de recuperação de desastres, ISO 27001, GDPR, LGPD\\nExperiência Profissional: Analista de Segurança da Informação | Empresa E | [Cidade, Estado] | [Data Inicial] - [Data Final]\\nEstagiário de Segurança da Informação | Empresa F | [Cidade, Estado] | [Data Inicial] - [Data Final]\\nFormação: Bacharelado em Segurança da Informação | Universidade Z | [Ano de Conclusão]\\nCertificações: Certified Information Systems Security Professional (CISSP)\\nCompTIA Security+\\nProjetos: Configuração de um laboratório de segurança da informação para realizar testes de penetração.\\nIdiomas: Português (Nativo)\\nInglês (Técnico)'},\n",
              " {'Candidato': 'Candidato 5',\n",
              "  'Curriculo': 'Cargo: Gerente de Projetos de TI\\nResumo: Gerente de Projetos de TI com +7 anos de experiência em planejamento, execução e entrega de projetos de tecnologia. Habilidade comprovada em liderar equipes, gerenciar orçamentos, mitigar riscos e garantir a satisfação do cliente.\\nHabilidades: Waterfall, Agile (Scrum, Kanban), Jira, Microsoft Project, Asana, Gerenciamento de Riscos e Problemas, Comunicação Eficaz, Liderança e Motivação de Equipes, Negociação e Gestão de Conflitos\\nExperiência Profissional: Gerente de Projetos de TI | Empresa G | [Cidade, Estado] | [Data Inicial] - [Data Final]\\nCoordenador de Projetos de TI | Empresa H | [Cidade, Estado] | [Data Inicial] - [Data Final]\\nFormação: MBA em Gerenciamento de Projetos | Universidade W | [Ano de Conclusão]\\nBacharelado em Ciência da Computação | Universidade X | [Ano de Conclusão]\\nCertificações: Project Management Professional (PMP)\\nCertified Scrum Master (CSM)\\nProjetos: Voluntariado em projetos de tecnologia para organizações sem fins lucrativos.\\nIdiomas: Português (Nativo)\\nInglês (Fluente)\\nEspanhol (Básico)'}]"
            ]
          },
          "metadata": {},
          "execution_count": 6
        }
      ]
    },
    {
      "cell_type": "markdown",
      "source": [
        "<h2> Preencher o dataframe</h2>"
      ],
      "metadata": {
        "id": "7SYmNS8gdwG0"
      }
    },
    {
      "cell_type": "code",
      "source": [
        "df = pd.DataFrame(curriculos)\n",
        "df"
      ],
      "metadata": {
        "colab": {
          "base_uri": "https://localhost:8080/",
          "height": 206
        },
        "id": "q4xiQoRP52KL",
        "outputId": "42de1cb8-5093-41cc-91af-901f8496037a"
      },
      "execution_count": 7,
      "outputs": [
        {
          "output_type": "execute_result",
          "data": {
            "text/plain": [
              "     Candidato                                          Curriculo\n",
              "0  Candidato 1  Cargo: Desenvolvedor Full Stack\\nResumo: Desen...\n",
              "1  Candidato 2  Cargo: Cientista de Dados\\nResumo: Cientista d...\n",
              "2  Candidato 3  Cargo: Engenheiro de DevOps\\nResumo: Engenheir...\n",
              "3  Candidato 4  Cargo: Analista de Segurança da Informação\\nRe...\n",
              "4  Candidato 5  Cargo: Gerente de Projetos de TI\\nResumo: Gere..."
            ],
            "text/html": [
              "\n",
              "  <div id=\"df-cf1850d7-06cd-4136-badd-e15065e32ca5\" class=\"colab-df-container\">\n",
              "    <div>\n",
              "<style scoped>\n",
              "    .dataframe tbody tr th:only-of-type {\n",
              "        vertical-align: middle;\n",
              "    }\n",
              "\n",
              "    .dataframe tbody tr th {\n",
              "        vertical-align: top;\n",
              "    }\n",
              "\n",
              "    .dataframe thead th {\n",
              "        text-align: right;\n",
              "    }\n",
              "</style>\n",
              "<table border=\"1\" class=\"dataframe\">\n",
              "  <thead>\n",
              "    <tr style=\"text-align: right;\">\n",
              "      <th></th>\n",
              "      <th>Candidato</th>\n",
              "      <th>Curriculo</th>\n",
              "    </tr>\n",
              "  </thead>\n",
              "  <tbody>\n",
              "    <tr>\n",
              "      <th>0</th>\n",
              "      <td>Candidato 1</td>\n",
              "      <td>Cargo: Desenvolvedor Full Stack\\nResumo: Desen...</td>\n",
              "    </tr>\n",
              "    <tr>\n",
              "      <th>1</th>\n",
              "      <td>Candidato 2</td>\n",
              "      <td>Cargo: Cientista de Dados\\nResumo: Cientista d...</td>\n",
              "    </tr>\n",
              "    <tr>\n",
              "      <th>2</th>\n",
              "      <td>Candidato 3</td>\n",
              "      <td>Cargo: Engenheiro de DevOps\\nResumo: Engenheir...</td>\n",
              "    </tr>\n",
              "    <tr>\n",
              "      <th>3</th>\n",
              "      <td>Candidato 4</td>\n",
              "      <td>Cargo: Analista de Segurança da Informação\\nRe...</td>\n",
              "    </tr>\n",
              "    <tr>\n",
              "      <th>4</th>\n",
              "      <td>Candidato 5</td>\n",
              "      <td>Cargo: Gerente de Projetos de TI\\nResumo: Gere...</td>\n",
              "    </tr>\n",
              "  </tbody>\n",
              "</table>\n",
              "</div>\n",
              "    <div class=\"colab-df-buttons\">\n",
              "\n",
              "  <div class=\"colab-df-container\">\n",
              "    <button class=\"colab-df-convert\" onclick=\"convertToInteractive('df-cf1850d7-06cd-4136-badd-e15065e32ca5')\"\n",
              "            title=\"Convert this dataframe to an interactive table.\"\n",
              "            style=\"display:none;\">\n",
              "\n",
              "  <svg xmlns=\"http://www.w3.org/2000/svg\" height=\"24px\" viewBox=\"0 -960 960 960\">\n",
              "    <path d=\"M120-120v-720h720v720H120Zm60-500h600v-160H180v160Zm220 220h160v-160H400v160Zm0 220h160v-160H400v160ZM180-400h160v-160H180v160Zm440 0h160v-160H620v160ZM180-180h160v-160H180v160Zm440 0h160v-160H620v160Z\"/>\n",
              "  </svg>\n",
              "    </button>\n",
              "\n",
              "  <style>\n",
              "    .colab-df-container {\n",
              "      display:flex;\n",
              "      gap: 12px;\n",
              "    }\n",
              "\n",
              "    .colab-df-convert {\n",
              "      background-color: #E8F0FE;\n",
              "      border: none;\n",
              "      border-radius: 50%;\n",
              "      cursor: pointer;\n",
              "      display: none;\n",
              "      fill: #1967D2;\n",
              "      height: 32px;\n",
              "      padding: 0 0 0 0;\n",
              "      width: 32px;\n",
              "    }\n",
              "\n",
              "    .colab-df-convert:hover {\n",
              "      background-color: #E2EBFA;\n",
              "      box-shadow: 0px 1px 2px rgba(60, 64, 67, 0.3), 0px 1px 3px 1px rgba(60, 64, 67, 0.15);\n",
              "      fill: #174EA6;\n",
              "    }\n",
              "\n",
              "    .colab-df-buttons div {\n",
              "      margin-bottom: 4px;\n",
              "    }\n",
              "\n",
              "    [theme=dark] .colab-df-convert {\n",
              "      background-color: #3B4455;\n",
              "      fill: #D2E3FC;\n",
              "    }\n",
              "\n",
              "    [theme=dark] .colab-df-convert:hover {\n",
              "      background-color: #434B5C;\n",
              "      box-shadow: 0px 1px 3px 1px rgba(0, 0, 0, 0.15);\n",
              "      filter: drop-shadow(0px 1px 2px rgba(0, 0, 0, 0.3));\n",
              "      fill: #FFFFFF;\n",
              "    }\n",
              "  </style>\n",
              "\n",
              "    <script>\n",
              "      const buttonEl =\n",
              "        document.querySelector('#df-cf1850d7-06cd-4136-badd-e15065e32ca5 button.colab-df-convert');\n",
              "      buttonEl.style.display =\n",
              "        google.colab.kernel.accessAllowed ? 'block' : 'none';\n",
              "\n",
              "      async function convertToInteractive(key) {\n",
              "        const element = document.querySelector('#df-cf1850d7-06cd-4136-badd-e15065e32ca5');\n",
              "        const dataTable =\n",
              "          await google.colab.kernel.invokeFunction('convertToInteractive',\n",
              "                                                    [key], {});\n",
              "        if (!dataTable) return;\n",
              "\n",
              "        const docLinkHtml = 'Like what you see? Visit the ' +\n",
              "          '<a target=\"_blank\" href=https://colab.research.google.com/notebooks/data_table.ipynb>data table notebook</a>'\n",
              "          + ' to learn more about interactive tables.';\n",
              "        element.innerHTML = '';\n",
              "        dataTable['output_type'] = 'display_data';\n",
              "        await google.colab.output.renderOutput(dataTable, element);\n",
              "        const docLink = document.createElement('div');\n",
              "        docLink.innerHTML = docLinkHtml;\n",
              "        element.appendChild(docLink);\n",
              "      }\n",
              "    </script>\n",
              "  </div>\n",
              "\n",
              "\n",
              "<div id=\"df-002758d4-bf85-4ffe-a366-aeb24e66c428\">\n",
              "  <button class=\"colab-df-quickchart\" onclick=\"quickchart('df-002758d4-bf85-4ffe-a366-aeb24e66c428')\"\n",
              "            title=\"Suggest charts\"\n",
              "            style=\"display:none;\">\n",
              "\n",
              "<svg xmlns=\"http://www.w3.org/2000/svg\" height=\"24px\"viewBox=\"0 0 24 24\"\n",
              "     width=\"24px\">\n",
              "    <g>\n",
              "        <path d=\"M19 3H5c-1.1 0-2 .9-2 2v14c0 1.1.9 2 2 2h14c1.1 0 2-.9 2-2V5c0-1.1-.9-2-2-2zM9 17H7v-7h2v7zm4 0h-2V7h2v10zm4 0h-2v-4h2v4z\"/>\n",
              "    </g>\n",
              "</svg>\n",
              "  </button>\n",
              "\n",
              "<style>\n",
              "  .colab-df-quickchart {\n",
              "      --bg-color: #E8F0FE;\n",
              "      --fill-color: #1967D2;\n",
              "      --hover-bg-color: #E2EBFA;\n",
              "      --hover-fill-color: #174EA6;\n",
              "      --disabled-fill-color: #AAA;\n",
              "      --disabled-bg-color: #DDD;\n",
              "  }\n",
              "\n",
              "  [theme=dark] .colab-df-quickchart {\n",
              "      --bg-color: #3B4455;\n",
              "      --fill-color: #D2E3FC;\n",
              "      --hover-bg-color: #434B5C;\n",
              "      --hover-fill-color: #FFFFFF;\n",
              "      --disabled-bg-color: #3B4455;\n",
              "      --disabled-fill-color: #666;\n",
              "  }\n",
              "\n",
              "  .colab-df-quickchart {\n",
              "    background-color: var(--bg-color);\n",
              "    border: none;\n",
              "    border-radius: 50%;\n",
              "    cursor: pointer;\n",
              "    display: none;\n",
              "    fill: var(--fill-color);\n",
              "    height: 32px;\n",
              "    padding: 0;\n",
              "    width: 32px;\n",
              "  }\n",
              "\n",
              "  .colab-df-quickchart:hover {\n",
              "    background-color: var(--hover-bg-color);\n",
              "    box-shadow: 0 1px 2px rgba(60, 64, 67, 0.3), 0 1px 3px 1px rgba(60, 64, 67, 0.15);\n",
              "    fill: var(--button-hover-fill-color);\n",
              "  }\n",
              "\n",
              "  .colab-df-quickchart-complete:disabled,\n",
              "  .colab-df-quickchart-complete:disabled:hover {\n",
              "    background-color: var(--disabled-bg-color);\n",
              "    fill: var(--disabled-fill-color);\n",
              "    box-shadow: none;\n",
              "  }\n",
              "\n",
              "  .colab-df-spinner {\n",
              "    border: 2px solid var(--fill-color);\n",
              "    border-color: transparent;\n",
              "    border-bottom-color: var(--fill-color);\n",
              "    animation:\n",
              "      spin 1s steps(1) infinite;\n",
              "  }\n",
              "\n",
              "  @keyframes spin {\n",
              "    0% {\n",
              "      border-color: transparent;\n",
              "      border-bottom-color: var(--fill-color);\n",
              "      border-left-color: var(--fill-color);\n",
              "    }\n",
              "    20% {\n",
              "      border-color: transparent;\n",
              "      border-left-color: var(--fill-color);\n",
              "      border-top-color: var(--fill-color);\n",
              "    }\n",
              "    30% {\n",
              "      border-color: transparent;\n",
              "      border-left-color: var(--fill-color);\n",
              "      border-top-color: var(--fill-color);\n",
              "      border-right-color: var(--fill-color);\n",
              "    }\n",
              "    40% {\n",
              "      border-color: transparent;\n",
              "      border-right-color: var(--fill-color);\n",
              "      border-top-color: var(--fill-color);\n",
              "    }\n",
              "    60% {\n",
              "      border-color: transparent;\n",
              "      border-right-color: var(--fill-color);\n",
              "    }\n",
              "    80% {\n",
              "      border-color: transparent;\n",
              "      border-right-color: var(--fill-color);\n",
              "      border-bottom-color: var(--fill-color);\n",
              "    }\n",
              "    90% {\n",
              "      border-color: transparent;\n",
              "      border-bottom-color: var(--fill-color);\n",
              "    }\n",
              "  }\n",
              "</style>\n",
              "\n",
              "  <script>\n",
              "    async function quickchart(key) {\n",
              "      const quickchartButtonEl =\n",
              "        document.querySelector('#' + key + ' button');\n",
              "      quickchartButtonEl.disabled = true;  // To prevent multiple clicks.\n",
              "      quickchartButtonEl.classList.add('colab-df-spinner');\n",
              "      try {\n",
              "        const charts = await google.colab.kernel.invokeFunction(\n",
              "            'suggestCharts', [key], {});\n",
              "      } catch (error) {\n",
              "        console.error('Error during call to suggestCharts:', error);\n",
              "      }\n",
              "      quickchartButtonEl.classList.remove('colab-df-spinner');\n",
              "      quickchartButtonEl.classList.add('colab-df-quickchart-complete');\n",
              "    }\n",
              "    (() => {\n",
              "      let quickchartButtonEl =\n",
              "        document.querySelector('#df-002758d4-bf85-4ffe-a366-aeb24e66c428 button');\n",
              "      quickchartButtonEl.style.display =\n",
              "        google.colab.kernel.accessAllowed ? 'block' : 'none';\n",
              "    })();\n",
              "  </script>\n",
              "</div>\n",
              "\n",
              "  <div id=\"id_98bb94ef-e155-4d80-b4dd-00cdc1ceb152\">\n",
              "    <style>\n",
              "      .colab-df-generate {\n",
              "        background-color: #E8F0FE;\n",
              "        border: none;\n",
              "        border-radius: 50%;\n",
              "        cursor: pointer;\n",
              "        display: none;\n",
              "        fill: #1967D2;\n",
              "        height: 32px;\n",
              "        padding: 0 0 0 0;\n",
              "        width: 32px;\n",
              "      }\n",
              "\n",
              "      .colab-df-generate:hover {\n",
              "        background-color: #E2EBFA;\n",
              "        box-shadow: 0px 1px 2px rgba(60, 64, 67, 0.3), 0px 1px 3px 1px rgba(60, 64, 67, 0.15);\n",
              "        fill: #174EA6;\n",
              "      }\n",
              "\n",
              "      [theme=dark] .colab-df-generate {\n",
              "        background-color: #3B4455;\n",
              "        fill: #D2E3FC;\n",
              "      }\n",
              "\n",
              "      [theme=dark] .colab-df-generate:hover {\n",
              "        background-color: #434B5C;\n",
              "        box-shadow: 0px 1px 3px 1px rgba(0, 0, 0, 0.15);\n",
              "        filter: drop-shadow(0px 1px 2px rgba(0, 0, 0, 0.3));\n",
              "        fill: #FFFFFF;\n",
              "      }\n",
              "    </style>\n",
              "    <button class=\"colab-df-generate\" onclick=\"generateWithVariable('df')\"\n",
              "            title=\"Generate code using this dataframe.\"\n",
              "            style=\"display:none;\">\n",
              "\n",
              "  <svg xmlns=\"http://www.w3.org/2000/svg\" height=\"24px\"viewBox=\"0 0 24 24\"\n",
              "       width=\"24px\">\n",
              "    <path d=\"M7,19H8.4L18.45,9,17,7.55,7,17.6ZM5,21V16.75L18.45,3.32a2,2,0,0,1,2.83,0l1.4,1.43a1.91,1.91,0,0,1,.58,1.4,1.91,1.91,0,0,1-.58,1.4L9.25,21ZM18.45,9,17,7.55Zm-12,3A5.31,5.31,0,0,0,4.9,8.1,5.31,5.31,0,0,0,1,6.5,5.31,5.31,0,0,0,4.9,4.9,5.31,5.31,0,0,0,6.5,1,5.31,5.31,0,0,0,8.1,4.9,5.31,5.31,0,0,0,12,6.5,5.46,5.46,0,0,0,6.5,12Z\"/>\n",
              "  </svg>\n",
              "    </button>\n",
              "    <script>\n",
              "      (() => {\n",
              "      const buttonEl =\n",
              "        document.querySelector('#id_98bb94ef-e155-4d80-b4dd-00cdc1ceb152 button.colab-df-generate');\n",
              "      buttonEl.style.display =\n",
              "        google.colab.kernel.accessAllowed ? 'block' : 'none';\n",
              "\n",
              "      buttonEl.onclick = () => {\n",
              "        google.colab.notebook.generateWithVariable('df');\n",
              "      }\n",
              "      })();\n",
              "    </script>\n",
              "  </div>\n",
              "\n",
              "    </div>\n",
              "  </div>\n"
            ],
            "application/vnd.google.colaboratory.intrinsic+json": {
              "type": "dataframe",
              "variable_name": "df",
              "summary": "{\n  \"name\": \"df\",\n  \"rows\": 5,\n  \"fields\": [\n    {\n      \"column\": \"Candidato\",\n      \"properties\": {\n        \"dtype\": \"string\",\n        \"num_unique_values\": 5,\n        \"samples\": [\n          \"Candidato 2\",\n          \"Candidato 5\",\n          \"Candidato 3\"\n        ],\n        \"semantic_type\": \"\",\n        \"description\": \"\"\n      }\n    },\n    {\n      \"column\": \"Curriculo\",\n      \"properties\": {\n        \"dtype\": \"string\",\n        \"num_unique_values\": 5,\n        \"samples\": [\n          \"Cargo: Cientista de Dados\\nResumo: Cientista de Dados com +3 anos de experi\\u00eancia em an\\u00e1lise e modelagem de dados, com foco em Machine Learning e Intelig\\u00eancia Artificial. Habilidade comprovada em transformar dados em insights estrat\\u00e9gicos para otimizar processos e auxiliar na tomada de decis\\u00f5es.\\nHabilidades: Python, R, Pandas, NumPy, Scikit-learn, TensorFlow, Keras, Machine Learning, Regress\\u00e3o, Classifica\\u00e7\\u00e3o, Clusteriza\\u00e7\\u00e3o, Deep Learning, Tableau, Power BI, SQL Server, MySQL, Hadoop, Spark\\nExperi\\u00eancia Profissional: Cientista de Dados | Empresa A | [Cidade, Estado] | [Data Inicial] - [Data Final]\\nAnalista de Dados | Empresa B | [Cidade, Estado] | [Data Inicial] - [Data Final]\\nForma\\u00e7\\u00e3o: Mestrado em Estat\\u00edstica | Universidade W | [Ano de Conclus\\u00e3o]\\nBacharelado em Matem\\u00e1tica | Universidade X | [Ano de Conclus\\u00e3o]\\nCertifica\\u00e7\\u00f5es: AWS Certified Machine Learning - Specialty\\nProjetos: Desenvolvimento de um projeto de machine learning para [descri\\u00e7\\u00e3o do projeto], dispon\\u00edvel no Github.\\nIdiomas: Portugu\\u00eas (Nativo)\\nIngl\\u00eas (Avan\\u00e7ado)\",\n          \"Cargo: Gerente de Projetos de TI\\nResumo: Gerente de Projetos de TI com +7 anos de experi\\u00eancia em planejamento, execu\\u00e7\\u00e3o e entrega de projetos de tecnologia. Habilidade comprovada em liderar equipes, gerenciar or\\u00e7amentos, mitigar riscos e garantir a satisfa\\u00e7\\u00e3o do cliente.\\nHabilidades: Waterfall, Agile (Scrum, Kanban), Jira, Microsoft Project, Asana, Gerenciamento de Riscos e Problemas, Comunica\\u00e7\\u00e3o Eficaz, Lideran\\u00e7a e Motiva\\u00e7\\u00e3o de Equipes, Negocia\\u00e7\\u00e3o e Gest\\u00e3o de Conflitos\\nExperi\\u00eancia Profissional: Gerente de Projetos de TI | Empresa G | [Cidade, Estado] | [Data Inicial] - [Data Final]\\nCoordenador de Projetos de TI | Empresa H | [Cidade, Estado] | [Data Inicial] - [Data Final]\\nForma\\u00e7\\u00e3o: MBA em Gerenciamento de Projetos | Universidade W | [Ano de Conclus\\u00e3o]\\nBacharelado em Ci\\u00eancia da Computa\\u00e7\\u00e3o | Universidade X | [Ano de Conclus\\u00e3o]\\nCertifica\\u00e7\\u00f5es: Project Management Professional (PMP)\\nCertified Scrum Master (CSM)\\nProjetos: Voluntariado em projetos de tecnologia para organiza\\u00e7\\u00f5es sem fins lucrativos.\\nIdiomas: Portugu\\u00eas (Nativo)\\nIngl\\u00eas (Fluente)\\nEspanhol (B\\u00e1sico)\",\n          \"Cargo: Engenheiro de DevOps\\nResumo: Engenheiro de DevOps com +4 anos de experi\\u00eancia em automatiza\\u00e7\\u00e3o de infraestrutura, integra\\u00e7\\u00e3o cont\\u00ednua e entrega cont\\u00ednua (CI/CD). Habilidade comprovada em otimizar o processo de desenvolvimento de software, aumentar a efici\\u00eancia da equipe e garantir a qualidade do produto final.\\nHabilidades: AWS, Azure, GCP, Docker, Kubernetes, Ansible, Puppet, Chef, CI/CD, Jenkins, GitLab CI, CircleCI, Linux, Windows Server, Bash, Python, Prometheus, Grafana\\nExperi\\u00eancia Profissional: Engenheiro de DevOps | Empresa C | [Cidade, Estado] | [Data Inicial] - [Data Final]\\nAdministrador de Sistemas | Empresa D | [Cidade, Estado] | [Data Inicial] - [Data Final]\\nForma\\u00e7\\u00e3o: Bacharelado em Engenharia da Computa\\u00e7\\u00e3o | Universidade Y | [Ano de Conclus\\u00e3o]\\nCertifica\\u00e7\\u00f5es: AWS Certified Solutions Architect - Associate\\nCertified Kubernetes Administrator (CKA)\\nProjetos: Cria\\u00e7\\u00e3o de um ambiente de desenvolvimento automatizado utilizando Docker e Ansible.\\nIdiomas: Portugu\\u00eas (Nativo)\\nIngl\\u00eas (Intermedi\\u00e1rio)\"\n        ],\n        \"semantic_type\": \"\",\n        \"description\": \"\"\n      }\n    }\n  ]\n}"
            }
          },
          "metadata": {},
          "execution_count": 7
        }
      ]
    },
    {
      "cell_type": "code",
      "source": [
        "model = \"models/embedding-001\""
      ],
      "metadata": {
        "id": "c5OGOh1dWmIF"
      },
      "execution_count": 8,
      "outputs": []
    },
    {
      "cell_type": "markdown",
      "source": [
        "<h2>Adicionar embeddings de cada currículo ao dataframe</h2>"
      ],
      "metadata": {
        "id": "sqBZv2rmd6Ft"
      }
    },
    {
      "cell_type": "code",
      "source": [
        "def embed_fn(candidato, curriculo):\n",
        "  return genai.embed_content(model=model,\n",
        "                                 content=curriculo,\n",
        "                                 title=candidato,\n",
        "                                 task_type=\"RETRIEVAL_DOCUMENT\")[\"embedding\"]"
      ],
      "metadata": {
        "id": "fgyk3cGdXbEu"
      },
      "execution_count": 9,
      "outputs": []
    },
    {
      "cell_type": "code",
      "source": [
        "df[\"Embeddings\"] = df.apply(lambda row: embed_fn(row[\"Candidato\"], row[\"Curriculo\"]), axis=1)\n",
        "df"
      ],
      "metadata": {
        "colab": {
          "base_uri": "https://localhost:8080/",
          "height": 206
        },
        "id": "arkUU2fiYClm",
        "outputId": "078d8197-0f7d-4278-c10e-503854a1ae6e"
      },
      "execution_count": 10,
      "outputs": [
        {
          "output_type": "execute_result",
          "data": {
            "text/plain": [
              "     Candidato                                          Curriculo  \\\n",
              "0  Candidato 1  Cargo: Desenvolvedor Full Stack\\nResumo: Desen...   \n",
              "1  Candidato 2  Cargo: Cientista de Dados\\nResumo: Cientista d...   \n",
              "2  Candidato 3  Cargo: Engenheiro de DevOps\\nResumo: Engenheir...   \n",
              "3  Candidato 4  Cargo: Analista de Segurança da Informação\\nRe...   \n",
              "4  Candidato 5  Cargo: Gerente de Projetos de TI\\nResumo: Gere...   \n",
              "\n",
              "                                          Embeddings  \n",
              "0  [0.023134675, -0.056388088, -0.026959823, 0.00...  \n",
              "1  [-0.006379591, -0.07124528, -0.017808588, 0.02...  \n",
              "2  [0.031235173, -0.05558979, -0.026302753, 0.007...  \n",
              "3  [0.025696216, -0.05785462, -0.03956894, 0.0135...  \n",
              "4  [-0.004269714, -0.03849035, -0.020453298, 0.01...  "
            ],
            "text/html": [
              "\n",
              "  <div id=\"df-dd0359f2-ecfa-4b04-a6a2-1a2ae7e829b3\" class=\"colab-df-container\">\n",
              "    <div>\n",
              "<style scoped>\n",
              "    .dataframe tbody tr th:only-of-type {\n",
              "        vertical-align: middle;\n",
              "    }\n",
              "\n",
              "    .dataframe tbody tr th {\n",
              "        vertical-align: top;\n",
              "    }\n",
              "\n",
              "    .dataframe thead th {\n",
              "        text-align: right;\n",
              "    }\n",
              "</style>\n",
              "<table border=\"1\" class=\"dataframe\">\n",
              "  <thead>\n",
              "    <tr style=\"text-align: right;\">\n",
              "      <th></th>\n",
              "      <th>Candidato</th>\n",
              "      <th>Curriculo</th>\n",
              "      <th>Embeddings</th>\n",
              "    </tr>\n",
              "  </thead>\n",
              "  <tbody>\n",
              "    <tr>\n",
              "      <th>0</th>\n",
              "      <td>Candidato 1</td>\n",
              "      <td>Cargo: Desenvolvedor Full Stack\\nResumo: Desen...</td>\n",
              "      <td>[0.023134675, -0.056388088, -0.026959823, 0.00...</td>\n",
              "    </tr>\n",
              "    <tr>\n",
              "      <th>1</th>\n",
              "      <td>Candidato 2</td>\n",
              "      <td>Cargo: Cientista de Dados\\nResumo: Cientista d...</td>\n",
              "      <td>[-0.006379591, -0.07124528, -0.017808588, 0.02...</td>\n",
              "    </tr>\n",
              "    <tr>\n",
              "      <th>2</th>\n",
              "      <td>Candidato 3</td>\n",
              "      <td>Cargo: Engenheiro de DevOps\\nResumo: Engenheir...</td>\n",
              "      <td>[0.031235173, -0.05558979, -0.026302753, 0.007...</td>\n",
              "    </tr>\n",
              "    <tr>\n",
              "      <th>3</th>\n",
              "      <td>Candidato 4</td>\n",
              "      <td>Cargo: Analista de Segurança da Informação\\nRe...</td>\n",
              "      <td>[0.025696216, -0.05785462, -0.03956894, 0.0135...</td>\n",
              "    </tr>\n",
              "    <tr>\n",
              "      <th>4</th>\n",
              "      <td>Candidato 5</td>\n",
              "      <td>Cargo: Gerente de Projetos de TI\\nResumo: Gere...</td>\n",
              "      <td>[-0.004269714, -0.03849035, -0.020453298, 0.01...</td>\n",
              "    </tr>\n",
              "  </tbody>\n",
              "</table>\n",
              "</div>\n",
              "    <div class=\"colab-df-buttons\">\n",
              "\n",
              "  <div class=\"colab-df-container\">\n",
              "    <button class=\"colab-df-convert\" onclick=\"convertToInteractive('df-dd0359f2-ecfa-4b04-a6a2-1a2ae7e829b3')\"\n",
              "            title=\"Convert this dataframe to an interactive table.\"\n",
              "            style=\"display:none;\">\n",
              "\n",
              "  <svg xmlns=\"http://www.w3.org/2000/svg\" height=\"24px\" viewBox=\"0 -960 960 960\">\n",
              "    <path d=\"M120-120v-720h720v720H120Zm60-500h600v-160H180v160Zm220 220h160v-160H400v160Zm0 220h160v-160H400v160ZM180-400h160v-160H180v160Zm440 0h160v-160H620v160ZM180-180h160v-160H180v160Zm440 0h160v-160H620v160Z\"/>\n",
              "  </svg>\n",
              "    </button>\n",
              "\n",
              "  <style>\n",
              "    .colab-df-container {\n",
              "      display:flex;\n",
              "      gap: 12px;\n",
              "    }\n",
              "\n",
              "    .colab-df-convert {\n",
              "      background-color: #E8F0FE;\n",
              "      border: none;\n",
              "      border-radius: 50%;\n",
              "      cursor: pointer;\n",
              "      display: none;\n",
              "      fill: #1967D2;\n",
              "      height: 32px;\n",
              "      padding: 0 0 0 0;\n",
              "      width: 32px;\n",
              "    }\n",
              "\n",
              "    .colab-df-convert:hover {\n",
              "      background-color: #E2EBFA;\n",
              "      box-shadow: 0px 1px 2px rgba(60, 64, 67, 0.3), 0px 1px 3px 1px rgba(60, 64, 67, 0.15);\n",
              "      fill: #174EA6;\n",
              "    }\n",
              "\n",
              "    .colab-df-buttons div {\n",
              "      margin-bottom: 4px;\n",
              "    }\n",
              "\n",
              "    [theme=dark] .colab-df-convert {\n",
              "      background-color: #3B4455;\n",
              "      fill: #D2E3FC;\n",
              "    }\n",
              "\n",
              "    [theme=dark] .colab-df-convert:hover {\n",
              "      background-color: #434B5C;\n",
              "      box-shadow: 0px 1px 3px 1px rgba(0, 0, 0, 0.15);\n",
              "      filter: drop-shadow(0px 1px 2px rgba(0, 0, 0, 0.3));\n",
              "      fill: #FFFFFF;\n",
              "    }\n",
              "  </style>\n",
              "\n",
              "    <script>\n",
              "      const buttonEl =\n",
              "        document.querySelector('#df-dd0359f2-ecfa-4b04-a6a2-1a2ae7e829b3 button.colab-df-convert');\n",
              "      buttonEl.style.display =\n",
              "        google.colab.kernel.accessAllowed ? 'block' : 'none';\n",
              "\n",
              "      async function convertToInteractive(key) {\n",
              "        const element = document.querySelector('#df-dd0359f2-ecfa-4b04-a6a2-1a2ae7e829b3');\n",
              "        const dataTable =\n",
              "          await google.colab.kernel.invokeFunction('convertToInteractive',\n",
              "                                                    [key], {});\n",
              "        if (!dataTable) return;\n",
              "\n",
              "        const docLinkHtml = 'Like what you see? Visit the ' +\n",
              "          '<a target=\"_blank\" href=https://colab.research.google.com/notebooks/data_table.ipynb>data table notebook</a>'\n",
              "          + ' to learn more about interactive tables.';\n",
              "        element.innerHTML = '';\n",
              "        dataTable['output_type'] = 'display_data';\n",
              "        await google.colab.output.renderOutput(dataTable, element);\n",
              "        const docLink = document.createElement('div');\n",
              "        docLink.innerHTML = docLinkHtml;\n",
              "        element.appendChild(docLink);\n",
              "      }\n",
              "    </script>\n",
              "  </div>\n",
              "\n",
              "\n",
              "<div id=\"df-e998a999-05c2-4164-af60-bcde12e6e095\">\n",
              "  <button class=\"colab-df-quickchart\" onclick=\"quickchart('df-e998a999-05c2-4164-af60-bcde12e6e095')\"\n",
              "            title=\"Suggest charts\"\n",
              "            style=\"display:none;\">\n",
              "\n",
              "<svg xmlns=\"http://www.w3.org/2000/svg\" height=\"24px\"viewBox=\"0 0 24 24\"\n",
              "     width=\"24px\">\n",
              "    <g>\n",
              "        <path d=\"M19 3H5c-1.1 0-2 .9-2 2v14c0 1.1.9 2 2 2h14c1.1 0 2-.9 2-2V5c0-1.1-.9-2-2-2zM9 17H7v-7h2v7zm4 0h-2V7h2v10zm4 0h-2v-4h2v4z\"/>\n",
              "    </g>\n",
              "</svg>\n",
              "  </button>\n",
              "\n",
              "<style>\n",
              "  .colab-df-quickchart {\n",
              "      --bg-color: #E8F0FE;\n",
              "      --fill-color: #1967D2;\n",
              "      --hover-bg-color: #E2EBFA;\n",
              "      --hover-fill-color: #174EA6;\n",
              "      --disabled-fill-color: #AAA;\n",
              "      --disabled-bg-color: #DDD;\n",
              "  }\n",
              "\n",
              "  [theme=dark] .colab-df-quickchart {\n",
              "      --bg-color: #3B4455;\n",
              "      --fill-color: #D2E3FC;\n",
              "      --hover-bg-color: #434B5C;\n",
              "      --hover-fill-color: #FFFFFF;\n",
              "      --disabled-bg-color: #3B4455;\n",
              "      --disabled-fill-color: #666;\n",
              "  }\n",
              "\n",
              "  .colab-df-quickchart {\n",
              "    background-color: var(--bg-color);\n",
              "    border: none;\n",
              "    border-radius: 50%;\n",
              "    cursor: pointer;\n",
              "    display: none;\n",
              "    fill: var(--fill-color);\n",
              "    height: 32px;\n",
              "    padding: 0;\n",
              "    width: 32px;\n",
              "  }\n",
              "\n",
              "  .colab-df-quickchart:hover {\n",
              "    background-color: var(--hover-bg-color);\n",
              "    box-shadow: 0 1px 2px rgba(60, 64, 67, 0.3), 0 1px 3px 1px rgba(60, 64, 67, 0.15);\n",
              "    fill: var(--button-hover-fill-color);\n",
              "  }\n",
              "\n",
              "  .colab-df-quickchart-complete:disabled,\n",
              "  .colab-df-quickchart-complete:disabled:hover {\n",
              "    background-color: var(--disabled-bg-color);\n",
              "    fill: var(--disabled-fill-color);\n",
              "    box-shadow: none;\n",
              "  }\n",
              "\n",
              "  .colab-df-spinner {\n",
              "    border: 2px solid var(--fill-color);\n",
              "    border-color: transparent;\n",
              "    border-bottom-color: var(--fill-color);\n",
              "    animation:\n",
              "      spin 1s steps(1) infinite;\n",
              "  }\n",
              "\n",
              "  @keyframes spin {\n",
              "    0% {\n",
              "      border-color: transparent;\n",
              "      border-bottom-color: var(--fill-color);\n",
              "      border-left-color: var(--fill-color);\n",
              "    }\n",
              "    20% {\n",
              "      border-color: transparent;\n",
              "      border-left-color: var(--fill-color);\n",
              "      border-top-color: var(--fill-color);\n",
              "    }\n",
              "    30% {\n",
              "      border-color: transparent;\n",
              "      border-left-color: var(--fill-color);\n",
              "      border-top-color: var(--fill-color);\n",
              "      border-right-color: var(--fill-color);\n",
              "    }\n",
              "    40% {\n",
              "      border-color: transparent;\n",
              "      border-right-color: var(--fill-color);\n",
              "      border-top-color: var(--fill-color);\n",
              "    }\n",
              "    60% {\n",
              "      border-color: transparent;\n",
              "      border-right-color: var(--fill-color);\n",
              "    }\n",
              "    80% {\n",
              "      border-color: transparent;\n",
              "      border-right-color: var(--fill-color);\n",
              "      border-bottom-color: var(--fill-color);\n",
              "    }\n",
              "    90% {\n",
              "      border-color: transparent;\n",
              "      border-bottom-color: var(--fill-color);\n",
              "    }\n",
              "  }\n",
              "</style>\n",
              "\n",
              "  <script>\n",
              "    async function quickchart(key) {\n",
              "      const quickchartButtonEl =\n",
              "        document.querySelector('#' + key + ' button');\n",
              "      quickchartButtonEl.disabled = true;  // To prevent multiple clicks.\n",
              "      quickchartButtonEl.classList.add('colab-df-spinner');\n",
              "      try {\n",
              "        const charts = await google.colab.kernel.invokeFunction(\n",
              "            'suggestCharts', [key], {});\n",
              "      } catch (error) {\n",
              "        console.error('Error during call to suggestCharts:', error);\n",
              "      }\n",
              "      quickchartButtonEl.classList.remove('colab-df-spinner');\n",
              "      quickchartButtonEl.classList.add('colab-df-quickchart-complete');\n",
              "    }\n",
              "    (() => {\n",
              "      let quickchartButtonEl =\n",
              "        document.querySelector('#df-e998a999-05c2-4164-af60-bcde12e6e095 button');\n",
              "      quickchartButtonEl.style.display =\n",
              "        google.colab.kernel.accessAllowed ? 'block' : 'none';\n",
              "    })();\n",
              "  </script>\n",
              "</div>\n",
              "\n",
              "  <div id=\"id_1b588bf0-8fcd-4d73-ab7d-593ae7af0f53\">\n",
              "    <style>\n",
              "      .colab-df-generate {\n",
              "        background-color: #E8F0FE;\n",
              "        border: none;\n",
              "        border-radius: 50%;\n",
              "        cursor: pointer;\n",
              "        display: none;\n",
              "        fill: #1967D2;\n",
              "        height: 32px;\n",
              "        padding: 0 0 0 0;\n",
              "        width: 32px;\n",
              "      }\n",
              "\n",
              "      .colab-df-generate:hover {\n",
              "        background-color: #E2EBFA;\n",
              "        box-shadow: 0px 1px 2px rgba(60, 64, 67, 0.3), 0px 1px 3px 1px rgba(60, 64, 67, 0.15);\n",
              "        fill: #174EA6;\n",
              "      }\n",
              "\n",
              "      [theme=dark] .colab-df-generate {\n",
              "        background-color: #3B4455;\n",
              "        fill: #D2E3FC;\n",
              "      }\n",
              "\n",
              "      [theme=dark] .colab-df-generate:hover {\n",
              "        background-color: #434B5C;\n",
              "        box-shadow: 0px 1px 3px 1px rgba(0, 0, 0, 0.15);\n",
              "        filter: drop-shadow(0px 1px 2px rgba(0, 0, 0, 0.3));\n",
              "        fill: #FFFFFF;\n",
              "      }\n",
              "    </style>\n",
              "    <button class=\"colab-df-generate\" onclick=\"generateWithVariable('df')\"\n",
              "            title=\"Generate code using this dataframe.\"\n",
              "            style=\"display:none;\">\n",
              "\n",
              "  <svg xmlns=\"http://www.w3.org/2000/svg\" height=\"24px\"viewBox=\"0 0 24 24\"\n",
              "       width=\"24px\">\n",
              "    <path d=\"M7,19H8.4L18.45,9,17,7.55,7,17.6ZM5,21V16.75L18.45,3.32a2,2,0,0,1,2.83,0l1.4,1.43a1.91,1.91,0,0,1,.58,1.4,1.91,1.91,0,0,1-.58,1.4L9.25,21ZM18.45,9,17,7.55Zm-12,3A5.31,5.31,0,0,0,4.9,8.1,5.31,5.31,0,0,0,1,6.5,5.31,5.31,0,0,0,4.9,4.9,5.31,5.31,0,0,0,6.5,1,5.31,5.31,0,0,0,8.1,4.9,5.31,5.31,0,0,0,12,6.5,5.46,5.46,0,0,0,6.5,12Z\"/>\n",
              "  </svg>\n",
              "    </button>\n",
              "    <script>\n",
              "      (() => {\n",
              "      const buttonEl =\n",
              "        document.querySelector('#id_1b588bf0-8fcd-4d73-ab7d-593ae7af0f53 button.colab-df-generate');\n",
              "      buttonEl.style.display =\n",
              "        google.colab.kernel.accessAllowed ? 'block' : 'none';\n",
              "\n",
              "      buttonEl.onclick = () => {\n",
              "        google.colab.notebook.generateWithVariable('df');\n",
              "      }\n",
              "      })();\n",
              "    </script>\n",
              "  </div>\n",
              "\n",
              "    </div>\n",
              "  </div>\n"
            ],
            "application/vnd.google.colaboratory.intrinsic+json": {
              "type": "dataframe",
              "variable_name": "df",
              "summary": "{\n  \"name\": \"df\",\n  \"rows\": 5,\n  \"fields\": [\n    {\n      \"column\": \"Candidato\",\n      \"properties\": {\n        \"dtype\": \"string\",\n        \"num_unique_values\": 5,\n        \"samples\": [\n          \"Candidato 2\",\n          \"Candidato 5\",\n          \"Candidato 3\"\n        ],\n        \"semantic_type\": \"\",\n        \"description\": \"\"\n      }\n    },\n    {\n      \"column\": \"Curriculo\",\n      \"properties\": {\n        \"dtype\": \"string\",\n        \"num_unique_values\": 5,\n        \"samples\": [\n          \"Cargo: Cientista de Dados\\nResumo: Cientista de Dados com +3 anos de experi\\u00eancia em an\\u00e1lise e modelagem de dados, com foco em Machine Learning e Intelig\\u00eancia Artificial. Habilidade comprovada em transformar dados em insights estrat\\u00e9gicos para otimizar processos e auxiliar na tomada de decis\\u00f5es.\\nHabilidades: Python, R, Pandas, NumPy, Scikit-learn, TensorFlow, Keras, Machine Learning, Regress\\u00e3o, Classifica\\u00e7\\u00e3o, Clusteriza\\u00e7\\u00e3o, Deep Learning, Tableau, Power BI, SQL Server, MySQL, Hadoop, Spark\\nExperi\\u00eancia Profissional: Cientista de Dados | Empresa A | [Cidade, Estado] | [Data Inicial] - [Data Final]\\nAnalista de Dados | Empresa B | [Cidade, Estado] | [Data Inicial] - [Data Final]\\nForma\\u00e7\\u00e3o: Mestrado em Estat\\u00edstica | Universidade W | [Ano de Conclus\\u00e3o]\\nBacharelado em Matem\\u00e1tica | Universidade X | [Ano de Conclus\\u00e3o]\\nCertifica\\u00e7\\u00f5es: AWS Certified Machine Learning - Specialty\\nProjetos: Desenvolvimento de um projeto de machine learning para [descri\\u00e7\\u00e3o do projeto], dispon\\u00edvel no Github.\\nIdiomas: Portugu\\u00eas (Nativo)\\nIngl\\u00eas (Avan\\u00e7ado)\",\n          \"Cargo: Gerente de Projetos de TI\\nResumo: Gerente de Projetos de TI com +7 anos de experi\\u00eancia em planejamento, execu\\u00e7\\u00e3o e entrega de projetos de tecnologia. Habilidade comprovada em liderar equipes, gerenciar or\\u00e7amentos, mitigar riscos e garantir a satisfa\\u00e7\\u00e3o do cliente.\\nHabilidades: Waterfall, Agile (Scrum, Kanban), Jira, Microsoft Project, Asana, Gerenciamento de Riscos e Problemas, Comunica\\u00e7\\u00e3o Eficaz, Lideran\\u00e7a e Motiva\\u00e7\\u00e3o de Equipes, Negocia\\u00e7\\u00e3o e Gest\\u00e3o de Conflitos\\nExperi\\u00eancia Profissional: Gerente de Projetos de TI | Empresa G | [Cidade, Estado] | [Data Inicial] - [Data Final]\\nCoordenador de Projetos de TI | Empresa H | [Cidade, Estado] | [Data Inicial] - [Data Final]\\nForma\\u00e7\\u00e3o: MBA em Gerenciamento de Projetos | Universidade W | [Ano de Conclus\\u00e3o]\\nBacharelado em Ci\\u00eancia da Computa\\u00e7\\u00e3o | Universidade X | [Ano de Conclus\\u00e3o]\\nCertifica\\u00e7\\u00f5es: Project Management Professional (PMP)\\nCertified Scrum Master (CSM)\\nProjetos: Voluntariado em projetos de tecnologia para organiza\\u00e7\\u00f5es sem fins lucrativos.\\nIdiomas: Portugu\\u00eas (Nativo)\\nIngl\\u00eas (Fluente)\\nEspanhol (B\\u00e1sico)\",\n          \"Cargo: Engenheiro de DevOps\\nResumo: Engenheiro de DevOps com +4 anos de experi\\u00eancia em automatiza\\u00e7\\u00e3o de infraestrutura, integra\\u00e7\\u00e3o cont\\u00ednua e entrega cont\\u00ednua (CI/CD). Habilidade comprovada em otimizar o processo de desenvolvimento de software, aumentar a efici\\u00eancia da equipe e garantir a qualidade do produto final.\\nHabilidades: AWS, Azure, GCP, Docker, Kubernetes, Ansible, Puppet, Chef, CI/CD, Jenkins, GitLab CI, CircleCI, Linux, Windows Server, Bash, Python, Prometheus, Grafana\\nExperi\\u00eancia Profissional: Engenheiro de DevOps | Empresa C | [Cidade, Estado] | [Data Inicial] - [Data Final]\\nAdministrador de Sistemas | Empresa D | [Cidade, Estado] | [Data Inicial] - [Data Final]\\nForma\\u00e7\\u00e3o: Bacharelado em Engenharia da Computa\\u00e7\\u00e3o | Universidade Y | [Ano de Conclus\\u00e3o]\\nCertifica\\u00e7\\u00f5es: AWS Certified Solutions Architect - Associate\\nCertified Kubernetes Administrator (CKA)\\nProjetos: Cria\\u00e7\\u00e3o de um ambiente de desenvolvimento automatizado utilizando Docker e Ansible.\\nIdiomas: Portugu\\u00eas (Nativo)\\nIngl\\u00eas (Intermedi\\u00e1rio)\"\n        ],\n        \"semantic_type\": \"\",\n        \"description\": \"\"\n      }\n    },\n    {\n      \"column\": \"Embeddings\",\n      \"properties\": {\n        \"dtype\": \"object\",\n        \"semantic_type\": \"\",\n        \"description\": \"\"\n      }\n    }\n  ]\n}"
            }
          },
          "metadata": {},
          "execution_count": 10
        }
      ]
    },
    {
      "cell_type": "markdown",
      "source": [
        "<h2>Definir a função de busca de candidato</h2>\n",
        "A função receberá um texto de consulta que contém a descrição de uma vaga."
      ],
      "metadata": {
        "id": "K4eevuRBeFf2"
      }
    },
    {
      "cell_type": "code",
      "source": [
        "def buscar_melhor_candidato(consulta, base, model):\n",
        "  embedding_busca = genai.embed_content(model=model,\n",
        "                                 content=consulta,\n",
        "                                 task_type=\"RETRIEVAL_QUERY\")[\"embedding\"]\n",
        "\n",
        "  distancias = np.dot(np.stack(df[\"Embeddings\"]), embedding_busca)\n",
        "\n",
        "  indice = np.argmax(distancias)\n",
        "  return df.iloc[indice][\"Candidato\"] + \"\\n\" + df.iloc[indice][\"Curriculo\"]"
      ],
      "metadata": {
        "id": "qOqsfK4vZ2aQ"
      },
      "execution_count": 11,
      "outputs": []
    },
    {
      "cell_type": "markdown",
      "source": [
        "<h2>Teste 1</h2>\n",
        "Anúncio real para uma vaga intitulada \"Engenheiro de IA Generativa Sr\".<br>\n",
        "O resultado retornou o currículo do Cientista de Dados."
      ],
      "metadata": {
        "id": "fynhPZZEivmC"
      }
    },
    {
      "cell_type": "code",
      "source": [
        "consulta = \"Qual currículo melhor atende aos seguintes requisitos:\\n\"\n",
        "consulta += \"Ter pelo menos 5 anos de experiência na área.\\n\"\n",
        "consulta += \"Ter postura proativa, observadora, organizada e comunicativa (atuação direta com cliente).\\n\"\n",
        "consulta += \"Habilidade de conduzir o planejamento de atividades do projeto conectando com demais integrantes da equipe.\\n\"\n",
        "consulta += \"Conhecimentos técnicos necessário: Experiência com IAs generativas / LLMs.\\n\"\n",
        "consulta += \"Preferencialmente com AWS Bedrock Experiência em Cloud AWS.\\n\"\n",
        "consulta += \"Sagemaker, lambda container, glue, terraform, bedrock, EC2, etc.\\n\"\n",
        "consulta += \"Desejável: Experiência no pipeline de produção de modelos ML.\\n\"\n",
        "consulta += \"Containerização de modelos / API.\\n\"\n",
        "consulta += \"Perfil consultor, entender os requisitos explícitos e implícitos, propondo soluções técnica\"\n",
        "\n",
        "\n",
        "curriculo_escolhido = buscar_melhor_candidato(consulta, df, model)\n",
        "print(curriculo_escolhido)"
      ],
      "metadata": {
        "colab": {
          "base_uri": "https://localhost:8080/",
          "height": 245
        },
        "id": "NHCjVGE_dO8z",
        "outputId": "87470454-97fa-4e9a-dc5f-2839e025e51a"
      },
      "execution_count": 16,
      "outputs": [
        {
          "output_type": "stream",
          "name": "stdout",
          "text": [
            "Candidato 2\n",
            "Cargo: Cientista de Dados\n",
            "Resumo: Cientista de Dados com +3 anos de experiência em análise e modelagem de dados, com foco em Machine Learning e Inteligência Artificial. Habilidade comprovada em transformar dados em insights estratégicos para otimizar processos e auxiliar na tomada de decisões.\n",
            "Habilidades: Python, R, Pandas, NumPy, Scikit-learn, TensorFlow, Keras, Machine Learning, Regressão, Classificação, Clusterização, Deep Learning, Tableau, Power BI, SQL Server, MySQL, Hadoop, Spark\n",
            "Experiência Profissional: Cientista de Dados | Empresa A | [Cidade, Estado] | [Data Inicial] - [Data Final]\n",
            "Analista de Dados | Empresa B | [Cidade, Estado] | [Data Inicial] - [Data Final]\n",
            "Formação: Mestrado em Estatística | Universidade W | [Ano de Conclusão]\n",
            "Bacharelado em Matemática | Universidade X | [Ano de Conclusão]\n",
            "Certificações: AWS Certified Machine Learning - Specialty\n",
            "Projetos: Desenvolvimento de um projeto de machine learning para [descrição do projeto], disponível no Github.\n",
            "Idiomas: Português (Nativo)\n",
            "Inglês (Avançado)\n"
          ]
        }
      ]
    },
    {
      "cell_type": "markdown",
      "source": [
        "<h2>Teste 2</h2>\n",
        "Anúncio real para uma vaga intitulada \"Analista Programador / Desenvolvedor\".<br>\n",
        "O resultado retornou o currículo do Desenvolvedor Full Stack."
      ],
      "metadata": {
        "id": "AbPUnDI_jXGo"
      }
    },
    {
      "cell_type": "code",
      "source": [
        "consulta = \"Qual currículo melhor atende aos seguintes requisitos:\\n\"\n",
        "consulta += \"Desenvolvedor em linguagem C# com e NET ASP.NET. Versionador GitHub – Experiencia como FULL STACK: C#, ASP.NET, CSS, HTML, MVC, Webforms, padrão em camadas (DAL, BLL, MODEL) Jquery, Javascripty,Json,Bootstrapp. SQL SERVER, MYSQL, ORACLE. \"\n",
        "\n",
        "curriculo_escolhido = buscar_melhor_candidato(consulta, df, model)\n",
        "print(curriculo_escolhido)"
      ],
      "metadata": {
        "colab": {
          "base_uri": "https://localhost:8080/",
          "height": 245
        },
        "id": "4AgR3o_WjLCy",
        "outputId": "20cc7583-b54e-451e-f20f-4241b95b1fe3"
      },
      "execution_count": 17,
      "outputs": [
        {
          "output_type": "stream",
          "name": "stdout",
          "text": [
            "Candidato 1\n",
            "Cargo: Desenvolvedor Full Stack\n",
            "Resumo: Desenvolvedor Full Stack com +5 anos de experiência na construção e manutenção de aplicações web complexas, com foco em performance, escalabilidade e usabilidade. Habilidade comprovada em trabalhar com times ágeis, liderando projetos e entregando soluções inovadoras.\n",
            "Habilidades: JavaScript, Python, Java, C#, React, Node.js, Angular, Django, Spring Boot, SQL Server, PostgreSQL, MongoDB, AWS, Azure, GCP, Git, Github, Scrum, Kanban\n",
            "Experiência Profissional: Desenvolvedor Full Stack | Empresa X | [Cidade, Estado] | [Data Inicial] - [Data Final]\n",
            "Desenvolvedor Front-End | Empresa Y | [Cidade, Estado] | [Data Inicial] - [Data Final]\n",
            "Formação: Bacharelado em Ciência da Computação | Universidade Z | [Ano de Conclusão]\n",
            "Certificações: \n",
            "Projetos: Desenvolvimento de um aplicativo mobile para [descrição do projeto], disponível na App Store e Google Play.\n",
            "Criação de um blog pessoal sobre desenvolvimento web, compartilhando conhecimento e experiências com a comunidade.\n",
            "Idiomas: Português (Nativo)\n",
            "Inglês (Fluente)\n"
          ]
        }
      ]
    },
    {
      "cell_type": "markdown",
      "source": [
        "<h2>Teste 3</h2>\n",
        "Anúncio real para uma vaga intitulada \"Gerente de Projetos - Sênior\".<br>\n",
        "O resultado retornou o currículo do Gerente de Projetos de TI."
      ],
      "metadata": {
        "id": "sH8bDFAojgWt"
      }
    },
    {
      "cell_type": "code",
      "source": [
        "consulta = \"Qual currículo melhor atende aos seguintes requisitos:\\n\"\n",
        "consulta += \"Sólida experiência em gestão de projetos no segmento de Tecnologia.\\n\"\n",
        "consulta += \"Gerenciamento de equipe, demanda do projeto, elaboração do detalhamento do projeto e escopo.\\n\"\n",
        "consulta += \"Metodologia de gestão de projetos (PMBOK).\\n\"\n",
        "consulta += \"Elaboração de status reports dos projetos.\\n\"\n",
        "consulta += \"Conhecimento em metodologias ágeis.\\n\"\n",
        "consulta += \"Imprescindível possuir a certificação:  PMP.\\n\"\n",
        "consulta += \"Formação acadêmica: Graduação concluída na área de TI ou áreas afins.\t\"\n",
        "\n",
        "curriculo_escolhido = buscar_melhor_candidato(consulta, df, model)\n",
        "print(curriculo_escolhido)"
      ],
      "metadata": {
        "colab": {
          "base_uri": "https://localhost:8080/",
          "height": 280
        },
        "id": "A-LRfsdZkzEJ",
        "outputId": "a9f48953-14cc-4dca-e445-f64a1d32e7ee"
      },
      "execution_count": 18,
      "outputs": [
        {
          "output_type": "stream",
          "name": "stdout",
          "text": [
            "Candidato 5\n",
            "Cargo: Gerente de Projetos de TI\n",
            "Resumo: Gerente de Projetos de TI com +7 anos de experiência em planejamento, execução e entrega de projetos de tecnologia. Habilidade comprovada em liderar equipes, gerenciar orçamentos, mitigar riscos e garantir a satisfação do cliente.\n",
            "Habilidades: Waterfall, Agile (Scrum, Kanban), Jira, Microsoft Project, Asana, Gerenciamento de Riscos e Problemas, Comunicação Eficaz, Liderança e Motivação de Equipes, Negociação e Gestão de Conflitos\n",
            "Experiência Profissional: Gerente de Projetos de TI | Empresa G | [Cidade, Estado] | [Data Inicial] - [Data Final]\n",
            "Coordenador de Projetos de TI | Empresa H | [Cidade, Estado] | [Data Inicial] - [Data Final]\n",
            "Formação: MBA em Gerenciamento de Projetos | Universidade W | [Ano de Conclusão]\n",
            "Bacharelado em Ciência da Computação | Universidade X | [Ano de Conclusão]\n",
            "Certificações: Project Management Professional (PMP)\n",
            "Certified Scrum Master (CSM)\n",
            "Projetos: Voluntariado em projetos de tecnologia para organizações sem fins lucrativos.\n",
            "Idiomas: Português (Nativo)\n",
            "Inglês (Fluente)\n",
            "Espanhol (Básico)\n"
          ]
        }
      ]
    },
    {
      "cell_type": "markdown",
      "source": [
        "<h1>Conclusão</h1>\n",
        "O método de análise de currículos se mostrou muito eficiente para apontar o melhor currículo para cada anúncio testado.</br>\n",
        "Em um cenário real com uma base de currículos maior, será interessante verificar os resultados de currículos com perfis semelhantes concorrendo para uma mesma vaga."
      ],
      "metadata": {
        "id": "lGfI5ZE5kQKj"
      }
    }
  ]
}